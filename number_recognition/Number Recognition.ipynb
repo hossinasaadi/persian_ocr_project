{
 "cells": [
  {
   "cell_type": "markdown",
   "id": "incoming-anniversary",
   "metadata": {},
   "source": [
    "# Number recognition for Persian OCR"
   ]
  },
  {
   "cell_type": "markdown",
   "id": "reflected-backup",
   "metadata": {},
   "source": [
    "## 1. Data generation"
   ]
  },
  {
   "cell_type": "code",
   "execution_count": 1,
   "id": "common-recognition",
   "metadata": {},
   "outputs": [],
   "source": [
    "import cv2\n",
    "import zarnevis"
   ]
  },
  {
   "cell_type": "code",
   "execution_count": 2,
   "id": "educational-norfolk",
   "metadata": {},
   "outputs": [],
   "source": [
    "import os # For working with directories and files"
   ]
  },
  {
   "cell_type": "markdown",
   "id": "developed-world",
   "metadata": {},
   "source": [
    "## 1.1. Generating blank image"
   ]
  },
  {
   "cell_type": "code",
   "execution_count": 3,
   "id": "cultural-humanitarian",
   "metadata": {},
   "outputs": [],
   "source": [
    "import numpy as np"
   ]
  },
  {
   "cell_type": "code",
   "execution_count": 62,
   "id": "literary-standing",
   "metadata": {},
   "outputs": [],
   "source": [
    "image = np.zeros((75, 255, 3), np.uint8)"
   ]
  },
  {
   "cell_type": "code",
   "execution_count": 6,
   "id": "outer-sense",
   "metadata": {},
   "outputs": [],
   "source": [
    "import matplotlib.pyplot as plt"
   ]
  },
  {
   "cell_type": "code",
   "execution_count": 41,
   "id": "internal-begin",
   "metadata": {},
   "outputs": [
    {
     "data": {
      "text/plain": [
       "<matplotlib.image.AxesImage at 0x7f83e1f084f0>"
      ]
     },
     "execution_count": 41,
     "metadata": {},
     "output_type": "execute_result"
    },
    {
     "data": {
      "image/png": "[encoded data removed]",
      "text/plain": [
       "<Figure size 432x288 with 1 Axes>"
      ]
     },
     "metadata": {
      "needs_background": "light"
     },
     "output_type": "display_data"
    }
   ],
   "source": [
    "%matplotlib inline\n",
    "\n",
    "plt.imshow(image)"
   ]
  },
  {
   "cell_type": "markdown",
   "id": "bacterial-estimate",
   "metadata": {},
   "source": [
    "## 1.2. Writing a simple number on the blank image"
   ]
  },
  {
   "cell_type": "code",
   "execution_count": 63,
   "id": "facial-vampire",
   "metadata": {},
   "outputs": [],
   "source": [
    "processor = zarnevis.Zarnevis(image=image, text=\"۱۲۳۴\", font_file='fonts/shabnam.ttf', font_size=36, text_coords=(90,10), color=(255, 255, 255))"
   ]
  },
  {
   "cell_type": "code",
   "execution_count": 64,
   "id": "crucial-strategy",
   "metadata": {},
   "outputs": [],
   "source": [
    "image = processor.draw_text()"
   ]
  },
  {
   "cell_type": "code",
   "execution_count": 65,
   "id": "subjective-coordination",
   "metadata": {},
   "outputs": [
    {
     "data": {
      "text/plain": [
       "<matplotlib.image.AxesImage at 0x7f83e223b820>"
      ]
     },
     "execution_count": 65,
     "metadata": {},
     "output_type": "execute_result"
    },
    {
     "data": {
      "image/png": "[encoded data removed]",
      "text/plain": [
       "<Figure size 432x288 with 1 Axes>"
      ]
     },
     "metadata": {
      "needs_background": "light"
     },
     "output_type": "display_data"
    }
   ],
   "source": [
    "%matplotlib inline\n",
    "\n",
    "plt.imshow(image)"
   ]
  },
  {
   "cell_type": "markdown",
   "id": "affiliated-health",
   "metadata": {},
   "source": [
    "## 1.3. Developing a function for generating the desired image"
   ]
  },
  {
   "cell_type": "code",
   "execution_count": 104,
   "id": "precious-eugene",
   "metadata": {},
   "outputs": [],
   "source": [
    "def numbers_on_pics(number, font):\n",
    "    font = f'fonts/{font}.ttf'\n",
    "    image = np.zeros((75,255,3), np.uint8)\n",
    "    processor = zarnevis.Zarnevis(image=image, text=number, font_file=font, font_size=36, text_coords=(90,10), color=(255, 255, 255))\n",
    "    image = processor.draw_text()\n",
    "    \n",
    "    return image"
   ]
  },
  {
   "cell_type": "code",
   "execution_count": 75,
   "id": "antique-perry",
   "metadata": {},
   "outputs": [],
   "source": [
    "image = numbers_on_pics(\"۲۳۴۵\", 'shabnam')"
   ]
  },
  {
   "cell_type": "code",
   "execution_count": 76,
   "id": "handy-portable",
   "metadata": {},
   "outputs": [
    {
     "data": {
      "text/plain": [
       "<matplotlib.image.AxesImage at 0x7f83e25781f0>"
      ]
     },
     "execution_count": 76,
     "metadata": {},
     "output_type": "execute_result"
    },
    {
     "data": {
      "image/png": "[encoded data removed]",
      "text/plain": [
       "<Figure size 432x288 with 1 Axes>"
      ]
     },
     "metadata": {
      "needs_background": "light"
     },
     "output_type": "display_data"
    }
   ],
   "source": [
    "%matplotlib inline\n",
    "\n",
    "plt.imshow(image)"
   ]
  },
  {
   "cell_type": "markdown",
   "id": "computational-township",
   "metadata": {},
   "source": [
    "## 1.4. Developing a function for translating latin numbers to Persian ones"
   ]
  },
  {
   "cell_type": "code",
   "execution_count": 78,
   "id": "specific-assurance",
   "metadata": {},
   "outputs": [],
   "source": [
    "_translator = str.maketrans(\"1234567890\", \"۱۲۳۴۵۶۷۸۹۰\")\n",
    "\n",
    "def latin_to_persian(number):\n",
    "    return number.translate(_translator)"
   ]
  },
  {
   "cell_type": "code",
   "execution_count": 80,
   "id": "ordinary-updating",
   "metadata": {},
   "outputs": [
    {
     "data": {
      "text/plain": [
       "'۵۴۳۲۱'"
      ]
     },
     "execution_count": 80,
     "metadata": {},
     "output_type": "execute_result"
    }
   ],
   "source": [
    "latin_to_persian(\"54321\")"
   ]
  },
  {
   "cell_type": "markdown",
   "id": "anonymous-incentive",
   "metadata": {},
   "source": [
    "## 1.5. Generating the desired data"
   ]
  },
  {
   "cell_type": "code",
   "execution_count": 81,
   "id": "maritime-feeling",
   "metadata": {},
   "outputs": [],
   "source": [
    "from uuid import uuid4 # For naming the files"
   ]
  },
  {
   "cell_type": "markdown",
   "id": "numerous-portugal",
   "metadata": {},
   "source": [
    "### 1.5.1. Generating a bunch of random numbers for our dataset"
   ]
  },
  {
   "cell_type": "code",
   "execution_count": 91,
   "id": "exceptional-adams",
   "metadata": {},
   "outputs": [],
   "source": [
    "import random\n",
    "\n",
    "random.seed()"
   ]
  },
  {
   "cell_type": "code",
   "execution_count": 111,
   "id": "continent-lodging",
   "metadata": {},
   "outputs": [],
   "source": [
    "random_numbers = []\n",
    "\n",
    "counter = 0\n",
    "\n",
    "while counter < 30:\n",
    "    random_numbers.append(str(random.randrange(1000, 10000)))\n",
    "    counter += 1"
   ]
  },
  {
   "cell_type": "code",
   "execution_count": 112,
   "id": "liked-spray",
   "metadata": {},
   "outputs": [
    {
     "data": {
      "text/plain": [
       "['8041',\n",
       " '8415',\n",
       " '3303',\n",
       " '6142',\n",
       " '3342',\n",
       " '8449',\n",
       " '6786',\n",
       " '6170',\n",
       " '6566',\n",
       " '5265',\n",
       " '5934',\n",
       " '3986',\n",
       " '6166',\n",
       " '7124',\n",
       " '4041',\n",
       " '2821',\n",
       " '8195',\n",
       " '2332',\n",
       " '1236',\n",
       " '7009',\n",
       " '1440',\n",
       " '4824',\n",
       " '5524',\n",
       " '3457',\n",
       " '4990',\n",
       " '6530',\n",
       " '7249',\n",
       " '3983',\n",
       " '8250',\n",
       " '9532']"
      ]
     },
     "execution_count": 112,
     "metadata": {},
     "output_type": "execute_result"
    }
   ],
   "source": [
    "random_numbers"
   ]
  },
  {
   "cell_type": "code",
   "execution_count": 114,
   "id": "revolutionary-reply",
   "metadata": {},
   "outputs": [],
   "source": [
    "for num in random_numbers:\n",
    "    num = latin_to_persian(num)\n",
    "    image = numbers_on_pics(num, 'shabnam')\n",
    "    cv2.imwrite(f'images/{uuid4()}.jpg', image)"
   ]
  },
  {
   "cell_type": "markdown",
   "id": "useful-specific",
   "metadata": {},
   "source": [
    "## 2. Labeling the data"
   ]
  },
  {
   "cell_type": "markdown",
   "id": "dying-traveler",
   "metadata": {},
   "source": [
    "Now, the generated data should be labeled. This data must be labeled outside this notebook. But you can download labeled dataset [here](). "
   ]
  },
  {
   "cell_type": "markdown",
   "id": "advanced-vampire",
   "metadata": {},
   "source": [
    "## 3. Inference"
   ]
  },
  {
   "cell_type": "code",
   "execution_count": null,
   "id": "floppy-while",
   "metadata": {},
   "outputs": [],
   "source": []
  }
 ],
 "metadata": {
  "kernelspec": {
   "display_name": "Python 3",
   "language": "python",
   "name": "python3"
  },
  "language_info": {
   "codemirror_mode": {
    "name": "ipython",
    "version": 3
   },
   "file_extension": ".py",
   "mimetype": "text/x-python",
   "name": "python",
   "nbconvert_exporter": "python",
   "pygments_lexer": "ipython3",
   "version": "3.8.6"
  }
 },
 "nbformat": 4,
 "nbformat_minor": 5
}
