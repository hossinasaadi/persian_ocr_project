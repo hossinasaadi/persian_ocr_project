{
 "cells": [
  {
   "cell_type": "markdown",
   "id": "mexican-volunteer",
   "metadata": {},
   "source": [
    "# Number recognition for Persian OCR"
   ]
  },
  {
   "cell_type": "markdown",
   "id": "specified-democracy",
   "metadata": {},
   "source": [
    "## 1. Data generation"
   ]
  },
  {
   "cell_type": "code",
   "execution_count": 1,
   "id": "banner-quarterly",
   "metadata": {},
   "outputs": [],
   "source": [
    "import cv2\n",
    "import zarnevis"
   ]
  },
  {
   "cell_type": "code",
   "execution_count": 2,
   "id": "suffering-shipping",
   "metadata": {},
   "outputs": [],
   "source": [
    "import os # For working with directories and files"
   ]
  },
  {
   "cell_type": "markdown",
   "id": "outdoor-frost",
   "metadata": {},
   "source": [
    "## 1.1. Generating blank image"
   ]
  },
  {
   "cell_type": "code",
   "execution_count": 3,
   "id": "opponent-designation",
   "metadata": {},
   "outputs": [],
   "source": [
    "import numpy as np"
   ]
  },
  {
   "cell_type": "code",
   "execution_count": 62,
   "id": "unlimited-disaster",
   "metadata": {},
   "outputs": [],
   "source": [
    "image = np.zeros((75, 255, 3), np.uint8)"
   ]
  },
  {
   "cell_type": "code",
   "execution_count": 6,
   "id": "micro-cardiff",
   "metadata": {},
   "outputs": [],
   "source": [
    "import matplotlib.pyplot as plt"
   ]
  },
  {
   "cell_type": "code",
   "execution_count": 41,
   "id": "unlike-booking",
   "metadata": {},
   "outputs": [
    {
     "data": {
      "text/plain": [
       "<matplotlib.image.AxesImage at 0x7f83e1f084f0>"
      ]
     },
     "execution_count": 41,
     "metadata": {},
     "output_type": "execute_result"
    },
    {
     "data": {
      "image/png": "[encoded data removed]",
      "text/plain": [
       "<Figure size 432x288 with 1 Axes>"
      ]
     },
     "metadata": {
      "needs_background": "light"
     },
     "output_type": "display_data"
    }
   ],
   "source": [
    "%matplotlib inline\n",
    "\n",
    "plt.imshow(image)"
   ]
  },
  {
   "cell_type": "markdown",
   "id": "controversial-conjunction",
   "metadata": {},
   "source": [
    "## 1.2. Writing a simple number on the blank image"
   ]
  },
  {
   "cell_type": "code",
   "execution_count": 63,
   "id": "increasing-planner",
   "metadata": {},
   "outputs": [],
   "source": [
    "processor = zarnevis.Zarnevis(image=image, text=\"۱۲۳۴\", font_file='fonts/shabnam.ttf', font_size=36, text_coords=(90,10), color=(255, 255, 255))"
   ]
  },
  {
   "cell_type": "code",
   "execution_count": 64,
   "id": "velvet-lease",
   "metadata": {},
   "outputs": [],
   "source": [
    "image = processor.draw_text()"
   ]
  },
  {
   "cell_type": "code",
   "execution_count": 65,
   "id": "owned-responsibility",
   "metadata": {},
   "outputs": [
    {
     "data": {
      "text/plain": [
       "<matplotlib.image.AxesImage at 0x7f83e223b820>"
      ]
     },
     "execution_count": 65,
     "metadata": {},
     "output_type": "execute_result"
    },
    {
     "data": {
      "image/png": "[encoded data removed]",
      "text/plain": [
       "<Figure size 432x288 with 1 Axes>"
      ]
     },
     "metadata": {
      "needs_background": "light"
     },
     "output_type": "display_data"
    }
   ],
   "source": [
    "%matplotlib inline\n",
    "\n",
    "plt.imshow(image)"
   ]
  },
  {
   "cell_type": "markdown",
   "id": "chicken-budget",
   "metadata": {},
   "source": [
    "## 1.3. Developing a function for generating the desired image"
   ]
  },
  {
   "cell_type": "code",
   "execution_count": 104,
   "id": "seventh-hands",
   "metadata": {},
   "outputs": [],
   "source": [
    "def numbers_on_pics(number, font):\n",
    "    font = f'fonts/{font}.ttf'\n",
    "    image = np.zeros((75,255,3), np.uint8)\n",
    "    processor = zarnevis.Zarnevis(image=image, text=number, font_file=font, font_size=36, text_coords=(90,10), color=(255, 255, 255))\n",
    "    image = processor.draw_text()\n",
    "    \n",
    "    return image"
   ]
  },
  {
   "cell_type": "code",
   "execution_count": 75,
   "id": "protected-charter",
   "metadata": {},
   "outputs": [],
   "source": [
    "image = numbers_on_pics(\"۲۳۴۵\", 'shabnam')"
   ]
  },
  {
   "cell_type": "code",
   "execution_count": 76,
   "id": "physical-designation",
   "metadata": {},
   "outputs": [
    {
     "data": {
      "text/plain": [
       "<matplotlib.image.AxesImage at 0x7f83e25781f0>"
      ]
     },
     "execution_count": 76,
     "metadata": {},
     "output_type": "execute_result"
    },
    {
     "data": {
      "image/png": "[encoded data removed]",
      "text/plain": [
       "<Figure size 432x288 with 1 Axes>"
      ]
     },
     "metadata": {
      "needs_background": "light"
     },
     "output_type": "display_data"
    }
   ],
   "source": [
    "%matplotlib inline\n",
    "\n",
    "plt.imshow(image)"
   ]
  },
  {
   "cell_type": "markdown",
   "id": "floppy-production",
   "metadata": {},
   "source": [
    "## 1.4. Developing a function for translating latin numbers to Persian ones"
   ]
  },
  {
   "cell_type": "code",
   "execution_count": 78,
   "id": "abstract-shoot",
   "metadata": {},
   "outputs": [],
   "source": [
    "_translator = str.maketrans(\"1234567890\", \"۱۲۳۴۵۶۷۸۹۰\")\n",
    "\n",
    "def latin_to_persian(number):\n",
    "    return number.translate(_translator)"
   ]
  },
  {
   "cell_type": "code",
   "execution_count": 80,
   "id": "organized-failure",
   "metadata": {},
   "outputs": [
    {
     "data": {
      "text/plain": [
       "'۵۴۳۲۱'"
      ]
     },
     "execution_count": 80,
     "metadata": {},
     "output_type": "execute_result"
    }
   ],
   "source": [
    "latin_to_persian(\"54321\")"
   ]
  },
  {
   "cell_type": "markdown",
   "id": "tough-geology",
   "metadata": {},
   "source": [
    "## 1.5. Generating the desired data"
   ]
  },
  {
   "cell_type": "code",
   "execution_count": 81,
   "id": "clean-revelation",
   "metadata": {},
   "outputs": [],
   "source": [
    "from uuid import uuid4 # For naming the files"
   ]
  },
  {
   "cell_type": "markdown",
   "id": "foster-emission",
   "metadata": {},
   "source": [
    "### 1.5.1. Generating a bunch of random numbers for our dataset"
   ]
  },
  {
   "cell_type": "code",
   "execution_count": 91,
   "id": "satisfied-mining",
   "metadata": {},
   "outputs": [],
   "source": [
    "import random\n",
    "\n",
    "random.seed()"
   ]
  },
  {
   "cell_type": "code",
   "execution_count": 111,
   "id": "essential-dodge",
   "metadata": {},
   "outputs": [],
   "source": [
    "random_numbers = []\n",
    "\n",
    "counter = 0\n",
    "\n",
    "while counter < 30:\n",
    "    random_numbers.append(str(random.randrange(1000, 10000)))\n",
    "    counter += 1"
   ]
  },
  {
   "cell_type": "code",
   "execution_count": 112,
   "id": "parliamentary-johns",
   "metadata": {},
   "outputs": [
    {
     "data": {
      "text/plain": [
       "['8041',\n",
       " '8415',\n",
       " '3303',\n",
       " '6142',\n",
       " '3342',\n",
       " '8449',\n",
       " '6786',\n",
       " '6170',\n",
       " '6566',\n",
       " '5265',\n",
       " '5934',\n",
       " '3986',\n",
       " '6166',\n",
       " '7124',\n",
       " '4041',\n",
       " '2821',\n",
       " '8195',\n",
       " '2332',\n",
       " '1236',\n",
       " '7009',\n",
       " '1440',\n",
       " '4824',\n",
       " '5524',\n",
       " '3457',\n",
       " '4990',\n",
       " '6530',\n",
       " '7249',\n",
       " '3983',\n",
       " '8250',\n",
       " '9532']"
      ]
     },
     "execution_count": 112,
     "metadata": {},
     "output_type": "execute_result"
    }
   ],
   "source": [
    "random_numbers"
   ]
  },
  {
   "cell_type": "code",
   "execution_count": 114,
   "id": "touched-scheduling",
   "metadata": {},
   "outputs": [],
   "source": [
    "for num in random_numbers:\n",
    "    num = latin_to_persian(num)\n",
    "    image = numbers_on_pics(num, 'shabnam')\n",
    "    cv2.imwrite(f'images/{uuid4()}.jpg', image)"
   ]
  },
  {
   "cell_type": "markdown",
   "id": "express-carpet",
   "metadata": {},
   "source": [
    "## 2. Labeling the data"
   ]
  },
  {
   "cell_type": "markdown",
   "id": "sacred-terminology",
   "metadata": {},
   "source": [
    "Now, the generated data should be labeled. This data must be labeled outside this notebook. But you can download labeled dataset [here](). "
   ]
  },
  {
   "cell_type": "markdown",
   "id": "unlike-burner",
   "metadata": {},
   "source": [
    "## 3. Inference"
   ]
  },
  {
   "cell_type": "code",
   "execution_count": 115,
   "id": "seven-ghana",
   "metadata": {},
   "outputs": [],
   "source": [
    "import torch\n",
    "import pandas as pd\n",
    "import numpy as np"
   ]
  },
  {
   "cell_type": "markdown",
   "id": "ordinary-orange",
   "metadata": {},
   "source": [
    "## 3.1. SSL problem on macOS\n",
    "\n",
    "If you're on a mac, it's recommended to run the following cell. If you get SSL related errors on Windows or GNU/Linux, you should run it. Otherwise, it's not necessary."
   ]
  },
  {
   "cell_type": "code",
   "execution_count": 116,
   "id": "magnetic-gothic",
   "metadata": {},
   "outputs": [],
   "source": [
    "import ssl\n",
    "\n",
    "try:\n",
    "    _create_unverified_https_context = ssl._create_unverified_context\n",
    "except AttributeError:\n",
    "    pass\n",
    "else:\n",
    "    ssl._create_default_https_context = _create_unverified_https_context"
   ]
  },
  {
   "cell_type": "markdown",
   "id": "intended-compiler",
   "metadata": {},
   "source": [
    "## 3.2. Load the model"
   ]
  },
  {
   "cell_type": "code",
   "execution_count": 117,
   "id": "mobile-carter",
   "metadata": {},
   "outputs": [
    {
     "name": "stderr",
     "output_type": "stream",
     "text": [
      "Downloading: \"https://github.com/ultralytics/yolov5/archive/master.zip\" to /Users/prp-e/.cache/torch/hub/master.zip\n",
      "YOLOv5 🚀 2022-6-16 Python-3.8.6 torch-1.10.0 CPU\n",
      "\n",
      "Fusing layers... \n",
      "Model summary: 290 layers, 20889303 parameters, 0 gradients, 48.1 GFLOPs\n",
      "Adding AutoShape... \n"
     ]
    }
   ],
   "source": [
    "model = torch.hub.load('ultralytics/yolov5', 'custom', path='models/numbers.pt', force_reload=True)"
   ]
  },
  {
   "cell_type": "markdown",
   "id": "lined-cambodia",
   "metadata": {},
   "source": [
    "## 3.3. Model inference"
   ]
  },
  {
   "cell_type": "code",
   "execution_count": 118,
   "id": "intense-bottle",
   "metadata": {},
   "outputs": [],
   "source": [
    "image = cv2.imread('../inference.png')"
   ]
  },
  {
   "cell_type": "code",
   "execution_count": 119,
   "id": "metropolitan-investigation",
   "metadata": {},
   "outputs": [
    {
     "data": {
      "text/plain": [
       "<matplotlib.image.AxesImage at 0x7f83cae3e400>"
      ]
     },
     "execution_count": 119,
     "metadata": {},
     "output_type": "execute_result"
    },
    {
     "data": {
      "image/png": "[encoded data removed]",
      "text/plain": [
       "<Figure size 432x288 with 1 Axes>"
      ]
     },
     "metadata": {
      "needs_background": "light"
     },
     "output_type": "display_data"
    }
   ],
   "source": [
    "%matplotlib inline\n",
    "\n",
    "plt.imshow(image)"
   ]
  },
  {
   "cell_type": "code",
   "execution_count": null,
   "id": "demanding-acrobat",
   "metadata": {},
   "outputs": [],
   "source": []
  }
 ],
 "metadata": {
  "kernelspec": {
   "display_name": "Python 3",
   "language": "python",
   "name": "python3"
  },
  "language_info": {
   "codemirror_mode": {
    "name": "ipython",
    "version": 3
   },
   "file_extension": ".py",
   "mimetype": "text/x-python",
   "name": "python",
   "nbconvert_exporter": "python",
   "pygments_lexer": "ipython3",
   "version": "3.8.6"
  }
 },
 "nbformat": 4,
 "nbformat_minor": 5
}
