{
 "cells": [
  {
   "cell_type": "markdown",
   "id": "tracked-seeking",
   "metadata": {},
   "source": [
    "# Letter Recognition"
   ]
  },
  {
   "cell_type": "markdown",
   "id": "minute-ecology",
   "metadata": {},
   "source": [
    "## 1. Import needed libraries"
   ]
  },
  {
   "cell_type": "code",
   "execution_count": 1,
   "id": "familiar-banana",
   "metadata": {},
   "outputs": [],
   "source": [
    "import cv2\n",
    "from matplotlib import pyplot as plt\n",
    "import numpy as np\n",
    "import os"
   ]
  },
  {
   "cell_type": "markdown",
   "id": "subject-active",
   "metadata": {},
   "source": [
    "## 2. Directory listings of the images"
   ]
  },
  {
   "cell_type": "markdown",
   "id": "confident-transportation",
   "metadata": {},
   "source": [
    "_NOTE_: This directory must be set from the shell. It requires some _bash scripting_ knowledge and also needs Shotor dataset to be downloaded in your computer."
   ]
  },
  {
   "cell_type": "code",
   "execution_count": 2,
   "id": "nominated-beast",
   "metadata": {},
   "outputs": [
    {
     "data": {
      "text/plain": [
       "'/Users/prp-e/Downloads/Shotor_Images'"
      ]
     },
     "execution_count": 2,
     "metadata": {},
     "output_type": "execute_result"
    }
   ],
   "source": [
    "os.getenv(\"SHOTOR_IMAGES\")"
   ]
  },
  {
   "cell_type": "code",
   "execution_count": 3,
   "id": "adequate-pregnancy",
   "metadata": {},
   "outputs": [],
   "source": [
    "directory_listing = os.listdir(os.getenv(\"SHOTOR_IMAGES\"))"
   ]
  },
  {
   "cell_type": "markdown",
   "id": "opposed-discharge",
   "metadata": {},
   "source": [
    "## 3. Testing and randomizing the data"
   ]
  },
  {
   "cell_type": "code",
   "execution_count": 5,
   "id": "utility-carbon",
   "metadata": {},
   "outputs": [],
   "source": [
    "import random"
   ]
  },
  {
   "cell_type": "code",
   "execution_count": 10,
   "id": "three-navigator",
   "metadata": {},
   "outputs": [
    {
     "data": {
      "text/plain": [
       "'53795.tif'"
      ]
     },
     "execution_count": 10,
     "metadata": {},
     "output_type": "execute_result"
    }
   ],
   "source": [
    "directory_listing[random.randrange(len(directory_listing))]"
   ]
  },
  {
   "cell_type": "markdown",
   "id": "hungarian-margin",
   "metadata": {},
   "source": [
    "## 3.1. Testing opencv on a random image from Shotor (To make sure tif is supported)"
   ]
  },
  {
   "cell_type": "code",
   "execution_count": 42,
   "id": "allied-genetics",
   "metadata": {},
   "outputs": [],
   "source": [
    "image_path = os.getenv(\"SHOTOR_IMAGES\") + \"/\" + directory_listing[random.randrange(len(directory_listing))]\n",
    "\n",
    "image = cv2.imread(image_path)"
   ]
  },
  {
   "cell_type": "code",
   "execution_count": 43,
   "id": "final-vertical",
   "metadata": {},
   "outputs": [
    {
     "data": {
      "text/plain": [
       "<matplotlib.image.AxesImage at 0x7fe969e2b0a0>"
      ]
     },
     "execution_count": 43,
     "metadata": {},
     "output_type": "execute_result"
    },
    {
     "data": {
      "image/png": "[encoded data removed]",
      "text/plain": [
       "<Figure size 432x288 with 1 Axes>"
      ]
     },
     "metadata": {
      "needs_background": "light"
     },
     "output_type": "display_data"
    }
   ],
   "source": [
    "%matplotlib inline\n",
    "\n",
    "plt.imshow(image)"
   ]
  },
  {
   "cell_type": "markdown",
   "id": "third-figure",
   "metadata": {},
   "source": [
    "## 3.2. Developing a function to select 200 images randomly"
   ]
  },
  {
   "cell_type": "code",
   "execution_count": 46,
   "id": "another-mailman",
   "metadata": {},
   "outputs": [],
   "source": [
    "def generate_dataset():\n",
    "    output_folder = \"images/\"\n",
    "    \n",
    "    counter = 0\n",
    "    images = []\n",
    "    \n",
    "    while counter < 200:\n",
    "        image_path = os.getenv(\"SHOTOR_IMAGES\") + \"/\" + directory_listing[random.randrange(len(directory_listing))]\n",
    "        image = cv2.imread(image_path)\n",
    "        images.append(image)\n",
    "        \n",
    "        counter += 1\n",
    "        \n",
    "    return images"
   ]
  },
  {
   "cell_type": "code",
   "execution_count": 47,
   "id": "worldwide-gravity",
   "metadata": {},
   "outputs": [],
   "source": [
    "images = generate_dataset()"
   ]
  },
  {
   "cell_type": "code",
   "execution_count": 49,
   "id": "expanded-atlantic",
   "metadata": {},
   "outputs": [
    {
     "data": {
      "text/plain": [
       "<matplotlib.image.AxesImage at 0x7fe90eeb2280>"
      ]
     },
     "execution_count": 49,
     "metadata": {},
     "output_type": "execute_result"
    },
    {
     "data": {
      "image/png": "[encoded data removed]",
      "text/plain": [
       "<Figure size 432x288 with 1 Axes>"
      ]
     },
     "metadata": {
      "needs_background": "light"
     },
     "output_type": "display_data"
    }
   ],
   "source": [
    "%matplotlib inline\n",
    "\n",
    "plt.imshow(images[45])"
   ]
  },
  {
   "cell_type": "code",
   "execution_count": null,
   "id": "appreciated-thinking",
   "metadata": {},
   "outputs": [],
   "source": []
  }
 ],
 "metadata": {
  "kernelspec": {
   "display_name": "Python 3",
   "language": "python",
   "name": "python3"
  },
  "language_info": {
   "codemirror_mode": {
    "name": "ipython",
    "version": 3
   },
   "file_extension": ".py",
   "mimetype": "text/x-python",
   "name": "python",
   "nbconvert_exporter": "python",
   "pygments_lexer": "ipython3",
   "version": "3.8.6"
  }
 },
 "nbformat": 4,
 "nbformat_minor": 5
}
