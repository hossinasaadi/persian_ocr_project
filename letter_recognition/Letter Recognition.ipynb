{
 "cells": [
  {
   "cell_type": "markdown",
   "id": "wooden-sherman",
   "metadata": {},
   "source": [
    "# Letter Recognition"
   ]
  },
  {
   "cell_type": "markdown",
   "id": "sticky-luther",
   "metadata": {},
   "source": [
    "## 1. Import needed libraries"
   ]
  },
  {
   "cell_type": "code",
   "execution_count": 1,
   "id": "advised-equality",
   "metadata": {},
   "outputs": [],
   "source": [
    "import cv2\n",
    "from matplotlib import pyplot as plt\n",
    "import numpy as np\n",
    "import os"
   ]
  },
  {
   "cell_type": "markdown",
   "id": "surrounded-sharp",
   "metadata": {},
   "source": [
    "## 2. Directory listings of the images"
   ]
  },
  {
   "cell_type": "markdown",
   "id": "thick-appointment",
   "metadata": {},
   "source": [
    "_NOTE_: This directory must be set from the shell. It requires some _bash scripting_ knowledge and also needs Shotor dataset to be downloaded in your computer."
   ]
  },
  {
   "cell_type": "code",
   "execution_count": 2,
   "id": "indian-dialogue",
   "metadata": {},
   "outputs": [
    {
     "data": {
      "text/plain": [
       "'/Users/prp-e/Downloads/Shotor_Images'"
      ]
     },
     "execution_count": 2,
     "metadata": {},
     "output_type": "execute_result"
    }
   ],
   "source": [
    "os.getenv(\"SHOTOR_IMAGES\")"
   ]
  },
  {
   "cell_type": "code",
   "execution_count": 3,
   "id": "gothic-fellowship",
   "metadata": {},
   "outputs": [],
   "source": [
    "directory_listing = os.listdir(os.getenv(\"SHOTOR_IMAGES\"))"
   ]
  },
  {
   "cell_type": "markdown",
   "id": "prospective-weight",
   "metadata": {},
   "source": [
    "## 3. Testing and randomizing the data"
   ]
  },
  {
   "cell_type": "code",
   "execution_count": 5,
   "id": "technological-robinson",
   "metadata": {},
   "outputs": [],
   "source": [
    "import random"
   ]
  },
  {
   "cell_type": "code",
   "execution_count": 10,
   "id": "trained-concentrate",
   "metadata": {},
   "outputs": [
    {
     "data": {
      "text/plain": [
       "'53795.tif'"
      ]
     },
     "execution_count": 10,
     "metadata": {},
     "output_type": "execute_result"
    }
   ],
   "source": [
    "directory_listing[random.randrange(len(directory_listing))]"
   ]
  },
  {
   "cell_type": "markdown",
   "id": "perceived-details",
   "metadata": {},
   "source": [
    "## 3.1. Testing opencv on a random image from Shotor (To make sure tif is supported)"
   ]
  },
  {
   "cell_type": "code",
   "execution_count": 42,
   "id": "occasional-interaction",
   "metadata": {},
   "outputs": [],
   "source": [
    "image_path = os.getenv(\"SHOTOR_IMAGES\") + \"/\" + directory_listing[random.randrange(len(directory_listing))]\n",
    "\n",
    "image = cv2.imread(image_path)"
   ]
  },
  {
   "cell_type": "code",
   "execution_count": 43,
   "id": "fourth-debut",
   "metadata": {},
   "outputs": [
    {
     "data": {
      "text/plain": [
       "<matplotlib.image.AxesImage at 0x7fe969e2b0a0>"
      ]
     },
     "execution_count": 43,
     "metadata": {},
     "output_type": "execute_result"
    },
    {
     "data": {
      "image/png": "[encoded data removed]",
      "text/plain": [
       "<Figure size 432x288 with 1 Axes>"
      ]
     },
     "metadata": {
      "needs_background": "light"
     },
     "output_type": "display_data"
    }
   ],
   "source": [
    "%matplotlib inline\n",
    "\n",
    "plt.imshow(image)"
   ]
  },
  {
   "cell_type": "markdown",
   "id": "integral-darkness",
   "metadata": {},
   "source": [
    "## 3.2. Developing a function to select 200 images randomly"
   ]
  },
  {
   "cell_type": "code",
   "execution_count": 50,
   "id": "accepting-scott",
   "metadata": {},
   "outputs": [],
   "source": [
    "def generate_dataset():\n",
    "    output_folder = \"images/\"\n",
    "    \n",
    "    counter = 0\n",
    "    images = []\n",
    "    \n",
    "    while counter < 200:\n",
    "        image_path = os.getenv(\"SHOTOR_IMAGES\") + \"/\" + directory_listing[random.randrange(len(directory_listing))]\n",
    "        image = cv2.imread(image_path)\n",
    "        cv2.imwrite(f'{output_folder}/{counter}.jpg', image)\n",
    "        counter += 1\n",
    "        \n",
    "    return True"
   ]
  },
  {
   "cell_type": "code",
   "execution_count": 51,
   "id": "earned-humanitarian",
   "metadata": {},
   "outputs": [],
   "source": [
    "images = generate_dataset()"
   ]
  },
  {
   "cell_type": "code",
   "execution_count": 52,
   "id": "presidential-understanding",
   "metadata": {},
   "outputs": [
    {
     "data": {
      "text/plain": [
       "True"
      ]
     },
     "execution_count": 52,
     "metadata": {},
     "output_type": "execute_result"
    }
   ],
   "source": [
    "images"
   ]
  },
  {
   "cell_type": "markdown",
   "id": "heavy-claim",
   "metadata": {},
   "source": [
    "## 4. Testing the sub-dataset we've created"
   ]
  },
  {
   "cell_type": "code",
   "execution_count": 53,
   "id": "different-wallace",
   "metadata": {},
   "outputs": [],
   "source": [
    "directory_listing = os.listdir('images')"
   ]
  },
  {
   "cell_type": "code",
   "execution_count": 54,
   "id": "focal-reputation",
   "metadata": {},
   "outputs": [
    {
     "data": {
      "text/plain": [
       "201"
      ]
     },
     "execution_count": 54,
     "metadata": {},
     "output_type": "execute_result"
    }
   ],
   "source": [
    "len(directory_listing)"
   ]
  },
  {
   "cell_type": "code",
   "execution_count": 55,
   "id": "convinced-planning",
   "metadata": {},
   "outputs": [],
   "source": [
    "image = cv2.imread(f'images/{directory_listing[random.randrange(len(directory_listing))]}')"
   ]
  },
  {
   "cell_type": "code",
   "execution_count": 57,
   "id": "united-questionnaire",
   "metadata": {},
   "outputs": [
    {
     "data": {
      "text/plain": [
       "<matplotlib.image.AxesImage at 0x7fe968ccf760>"
      ]
     },
     "execution_count": 57,
     "metadata": {},
     "output_type": "execute_result"
    },
    {
     "data": {
      "image/png": "[encoded data removed]",
      "text/plain": [
       "<Figure size 432x288 with 1 Axes>"
      ]
     },
     "metadata": {
      "needs_background": "light"
     },
     "output_type": "display_data"
    }
   ],
   "source": [
    "%matplotlib inline\n",
    "\n",
    "plt.imshow(image)"
   ]
  },
  {
   "cell_type": "markdown",
   "id": "split-sharing",
   "metadata": {},
   "source": [
    "# 5. Keeping the listing of Persian letters"
   ]
  },
  {
   "cell_type": "code",
   "execution_count": 58,
   "id": "hungarian-postage",
   "metadata": {},
   "outputs": [],
   "source": [
    "letters = \"\"\"alef\n",
    "be \n",
    "pe \n",
    "te \n",
    "the \n",
    "jim \n",
    "che \n",
    "he \n",
    "khe \n",
    "dal \n",
    "zal\n",
    "re\n",
    "ze\n",
    "zhe\n",
    "sin\n",
    "shin\n",
    "sad\n",
    "zad\n",
    "ta\n",
    "za\n",
    "ein\n",
    "qein\n",
    "fe\n",
    "quf\n",
    "kaf\n",
    "gaf\n",
    "lam\n",
    "mim \n",
    "nun \n",
    "vav\n",
    "he_docheshm\n",
    "ye\n",
    "\"\"\""
   ]
  },
  {
   "cell_type": "code",
   "execution_count": 59,
   "id": "advance-jimmy",
   "metadata": {},
   "outputs": [],
   "source": [
    "letters = letters.split()"
   ]
  },
  {
   "cell_type": "code",
   "execution_count": 60,
   "id": "bibliographic-scene",
   "metadata": {},
   "outputs": [
    {
     "data": {
      "text/plain": [
       "['alef',\n",
       " 'be',\n",
       " 'pe',\n",
       " 'te',\n",
       " 'the',\n",
       " 'jim',\n",
       " 'che',\n",
       " 'he',\n",
       " 'khe',\n",
       " 'dal',\n",
       " 'zal',\n",
       " 're',\n",
       " 'ze',\n",
       " 'zhe',\n",
       " 'sin',\n",
       " 'shin',\n",
       " 'sad',\n",
       " 'zad',\n",
       " 'ta',\n",
       " 'za',\n",
       " 'ein',\n",
       " 'qein',\n",
       " 'fe',\n",
       " 'quf',\n",
       " 'kaf',\n",
       " 'gaf',\n",
       " 'lam',\n",
       " 'mim',\n",
       " 'nun',\n",
       " 'vav',\n",
       " 'he_docheshm',\n",
       " 'ye']"
      ]
     },
     "execution_count": 60,
     "metadata": {},
     "output_type": "execute_result"
    }
   ],
   "source": [
    "letters"
   ]
  },
  {
   "cell_type": "code",
   "execution_count": 66,
   "id": "exact-complex",
   "metadata": {},
   "outputs": [],
   "source": [
    "persian_alphabet = \"ابپتثجچحخدذرزژسشصضطظعغفقکگلمنوهی\"\n",
    "persian_alphabet = [char for char in persian_alphabet]"
   ]
  },
  {
   "cell_type": "code",
   "execution_count": 70,
   "id": "checked-temperature",
   "metadata": {},
   "outputs": [],
   "source": [
    "inference_letters = dict()\n",
    "\n",
    "for letter, p_letter in zip(letters, persian_alphabet):\n",
    "    inference_letters[letter] = p_letter"
   ]
  },
  {
   "cell_type": "code",
   "execution_count": 71,
   "id": "limiting-roman",
   "metadata": {},
   "outputs": [
    {
     "data": {
      "text/plain": [
       "'ا'"
      ]
     },
     "execution_count": 71,
     "metadata": {},
     "output_type": "execute_result"
    }
   ],
   "source": [
    "inference_letters['alef']"
   ]
  },
  {
   "cell_type": "markdown",
   "id": "heated-canadian",
   "metadata": {},
   "source": [
    "## 6. Basic model inference"
   ]
  },
  {
   "cell_type": "code",
   "execution_count": 72,
   "id": "figured-cartoon",
   "metadata": {},
   "outputs": [],
   "source": [
    "import torch"
   ]
  },
  {
   "cell_type": "markdown",
   "id": "exclusive-length",
   "metadata": {},
   "source": [
    "## 6.1. SSL problem on macOS"
   ]
  },
  {
   "cell_type": "markdown",
   "id": "improved-slovenia",
   "metadata": {},
   "source": [
    "Run the following cell if you have macOS, or in case you get any errors related to SSL certificate."
   ]
  },
  {
   "cell_type": "code",
   "execution_count": 73,
   "id": "derived-toolbox",
   "metadata": {},
   "outputs": [],
   "source": [
    "import ssl\n",
    "\n",
    "try:\n",
    "    _create_unverified_https_context = ssl._create_unverified_context\n",
    "except AttributeError:\n",
    "    pass\n",
    "else:\n",
    "    ssl._create_default_https_context = _create_unverified_https_context"
   ]
  },
  {
   "cell_type": "markdown",
   "id": "ready-squad",
   "metadata": {},
   "source": [
    "## 6.2. Loading the model"
   ]
  },
  {
   "cell_type": "code",
   "execution_count": 74,
   "id": "clear-december",
   "metadata": {},
   "outputs": [
    {
     "name": "stderr",
     "output_type": "stream",
     "text": [
      "Downloading: \"https://github.com/ultralytics/yolov5/archive/master.zip\" to /Users/prp-e/.cache/torch/hub/master.zip\n",
      "YOLOv5 🚀 2022-6-21 Python-3.8.6 torch-1.10.0 CPU\n",
      "\n",
      "Fusing layers... \n",
      "Model summary: 290 layers, 20978205 parameters, 0 gradients, 48.3 GFLOPs\n",
      "Adding AutoShape... \n"
     ]
    }
   ],
   "source": [
    "model = torch.hub.load('ultralytics/yolov5', 'custom', path='models/letters.pt', force_reload=True)"
   ]
  },
  {
   "cell_type": "markdown",
   "id": "environmental-canada",
   "metadata": {},
   "source": [
    "## 6.3. Loading sample image"
   ]
  },
  {
   "cell_type": "code",
   "execution_count": 75,
   "id": "magnetic-burst",
   "metadata": {},
   "outputs": [],
   "source": [
    "image = cv2.imread('../letter_inference.png')"
   ]
  },
  {
   "cell_type": "code",
   "execution_count": 76,
   "id": "neither-reviewer",
   "metadata": {},
   "outputs": [
    {
     "data": {
      "text/plain": [
       "<matplotlib.image.AxesImage at 0x7fe902dff8b0>"
      ]
     },
     "execution_count": 76,
     "metadata": {},
     "output_type": "execute_result"
    },
    {
     "data": {
      "image/png": "[encoded data removed]",
      "text/plain": [
       "<Figure size 432x288 with 1 Axes>"
      ]
     },
     "metadata": {
      "needs_background": "light"
     },
     "output_type": "display_data"
    }
   ],
   "source": [
    "%matplotlib inline\n",
    "\n",
    "plt.imshow(image)"
   ]
  },
  {
   "cell_type": "markdown",
   "id": "strategic-grave",
   "metadata": {},
   "source": [
    "## 6.4. Testing the model on single image"
   ]
  },
  {
   "cell_type": "code",
   "execution_count": null,
   "id": "under-technical",
   "metadata": {},
   "outputs": [],
   "source": [
    "result = model(image)"
   ]
  }
 ],
 "metadata": {
  "kernelspec": {
   "display_name": "Python 3",
   "language": "python",
   "name": "python3"
  },
  "language_info": {
   "codemirror_mode": {
    "name": "ipython",
    "version": 3
   },
   "file_extension": ".py",
   "mimetype": "text/x-python",
   "name": "python",
   "nbconvert_exporter": "python",
   "pygments_lexer": "ipython3",
   "version": "3.8.6"
  }
 },
 "nbformat": 4,
 "nbformat_minor": 5
}
