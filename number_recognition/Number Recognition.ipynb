{
 "cells": [
  {
   "cell_type": "markdown",
   "id": "turned-aluminum",
   "metadata": {},
   "source": [
    "# Number recognition for Persian OCR"
   ]
  },
  {
   "cell_type": "markdown",
   "id": "uniform-cooler",
   "metadata": {},
   "source": [
    "## 1. Data generation"
   ]
  },
  {
   "cell_type": "code",
   "execution_count": 1,
   "id": "professional-architecture",
   "metadata": {},
   "outputs": [],
   "source": [
    "import cv2\n",
    "import zarnevis"
   ]
  },
  {
   "cell_type": "code",
   "execution_count": 2,
   "id": "inner-intensity",
   "metadata": {},
   "outputs": [],
   "source": [
    "import os # For working with directories and files"
   ]
  },
  {
   "cell_type": "markdown",
   "id": "tired-uniform",
   "metadata": {},
   "source": [
    "## 1.1. Generating blank image"
   ]
  },
  {
   "cell_type": "code",
   "execution_count": 3,
   "id": "accredited-quick",
   "metadata": {},
   "outputs": [],
   "source": [
    "import numpy as np"
   ]
  },
  {
   "cell_type": "code",
   "execution_count": 62,
   "id": "catholic-spirituality",
   "metadata": {},
   "outputs": [],
   "source": [
    "image = np.zeros((75, 255, 3), np.uint8)"
   ]
  },
  {
   "cell_type": "code",
   "execution_count": 6,
   "id": "powered-chess",
   "metadata": {},
   "outputs": [],
   "source": [
    "import matplotlib.pyplot as plt"
   ]
  },
  {
   "cell_type": "code",
   "execution_count": 41,
   "id": "intimate-cookbook",
   "metadata": {},
   "outputs": [
    {
     "data": {
      "text/plain": [
       "<matplotlib.image.AxesImage at 0x7f83e1f084f0>"
      ]
     },
     "execution_count": 41,
     "metadata": {},
     "output_type": "execute_result"
    },
    {
     "data": {
      "image/png": "[encoded data removed]",
      "text/plain": [
       "<Figure size 432x288 with 1 Axes>"
      ]
     },
     "metadata": {
      "needs_background": "light"
     },
     "output_type": "display_data"
    }
   ],
   "source": [
    "%matplotlib inline\n",
    "\n",
    "plt.imshow(image)"
   ]
  },
  {
   "cell_type": "markdown",
   "id": "behavioral-parade",
   "metadata": {},
   "source": [
    "## 1.2. Writing a simple number on the blank image"
   ]
  },
  {
   "cell_type": "code",
   "execution_count": 63,
   "id": "through-acting",
   "metadata": {},
   "outputs": [],
   "source": [
    "processor = zarnevis.Zarnevis(image=image, text=\"۱۲۳۴\", font_file='fonts/shabnam.ttf', font_size=36, text_coords=(90,10), color=(255, 255, 255))"
   ]
  },
  {
   "cell_type": "code",
   "execution_count": 64,
   "id": "august-emerald",
   "metadata": {},
   "outputs": [],
   "source": [
    "image = processor.draw_text()"
   ]
  },
  {
   "cell_type": "code",
   "execution_count": 65,
   "id": "veterinary-egyptian",
   "metadata": {},
   "outputs": [
    {
     "data": {
      "text/plain": [
       "<matplotlib.image.AxesImage at 0x7f83e223b820>"
      ]
     },
     "execution_count": 65,
     "metadata": {},
     "output_type": "execute_result"
    },
    {
     "data": {
      "image/png": "[encoded data removed]",
      "text/plain": [
       "<Figure size 432x288 with 1 Axes>"
      ]
     },
     "metadata": {
      "needs_background": "light"
     },
     "output_type": "display_data"
    }
   ],
   "source": [
    "%matplotlib inline\n",
    "\n",
    "plt.imshow(image)"
   ]
  },
  {
   "cell_type": "markdown",
   "id": "nervous-worcester",
   "metadata": {},
   "source": [
    "## 1.3. Developing a function for generating the desired image"
   ]
  },
  {
   "cell_type": "code",
   "execution_count": null,
   "id": "acknowledged-german",
   "metadata": {},
   "outputs": [],
   "source": []
  }
 ],
 "metadata": {
  "kernelspec": {
   "display_name": "Python 3",
   "language": "python",
   "name": "python3"
  },
  "language_info": {
   "codemirror_mode": {
    "name": "ipython",
    "version": 3
   },
   "file_extension": ".py",
   "mimetype": "text/x-python",
   "name": "python",
   "nbconvert_exporter": "python",
   "pygments_lexer": "ipython3",
   "version": "3.8.6"
  }
 },
 "nbformat": 4,
 "nbformat_minor": 5
}
