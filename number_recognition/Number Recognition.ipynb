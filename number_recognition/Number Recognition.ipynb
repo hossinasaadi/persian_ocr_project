{
 "cells": [
  {
   "cell_type": "markdown",
   "id": "entitled-worth",
   "metadata": {},
   "source": [
    "# Number recognition for Persian OCR"
   ]
  },
  {
   "cell_type": "markdown",
   "id": "virtual-hypothetical",
   "metadata": {},
   "source": [
    "## 1. Data generation"
   ]
  },
  {
   "cell_type": "code",
   "execution_count": 1,
   "id": "greatest-swing",
   "metadata": {},
   "outputs": [],
   "source": [
    "import cv2\n",
    "import zarnevis"
   ]
  },
  {
   "cell_type": "code",
   "execution_count": 2,
   "id": "awful-wealth",
   "metadata": {},
   "outputs": [],
   "source": [
    "import os # For working with directories and files"
   ]
  },
  {
   "cell_type": "markdown",
   "id": "printable-roulette",
   "metadata": {},
   "source": [
    "## 1.1. Generating blank image"
   ]
  },
  {
   "cell_type": "code",
   "execution_count": 3,
   "id": "positive-arizona",
   "metadata": {},
   "outputs": [],
   "source": [
    "import numpy as np"
   ]
  },
  {
   "cell_type": "code",
   "execution_count": 5,
   "id": "alike-warning",
   "metadata": {},
   "outputs": [],
   "source": [
    "image = np.zeros((255, 255, 3), np.uint8)"
   ]
  },
  {
   "cell_type": "code",
   "execution_count": 6,
   "id": "national-scenario",
   "metadata": {},
   "outputs": [],
   "source": [
    "import matplotlib.pyplot as plt"
   ]
  },
  {
   "cell_type": "code",
   "execution_count": 8,
   "id": "different-summit",
   "metadata": {},
   "outputs": [
    {
     "data": {
      "text/plain": [
       "<matplotlib.image.AxesImage at 0x7f83e156bfd0>"
      ]
     },
     "execution_count": 8,
     "metadata": {},
     "output_type": "execute_result"
    },
    {
     "data": {
      "image/png": "[encoded data removed]",
      "text/plain": [
       "<Figure size 432x288 with 1 Axes>"
      ]
     },
     "metadata": {
      "needs_background": "light"
     },
     "output_type": "display_data"
    }
   ],
   "source": [
    "%matplotlib inline\n",
    "\n",
    "plt.imshow(image)"
   ]
  },
  {
   "cell_type": "code",
   "execution_count": null,
   "id": "usual-registrar",
   "metadata": {},
   "outputs": [],
   "source": []
  }
 ],
 "metadata": {
  "kernelspec": {
   "display_name": "Python 3",
   "language": "python",
   "name": "python3"
  },
  "language_info": {
   "codemirror_mode": {
    "name": "ipython",
    "version": 3
   },
   "file_extension": ".py",
   "mimetype": "text/x-python",
   "name": "python",
   "nbconvert_exporter": "python",
   "pygments_lexer": "ipython3",
   "version": "3.8.6"
  }
 },
 "nbformat": 4,
 "nbformat_minor": 5
}
