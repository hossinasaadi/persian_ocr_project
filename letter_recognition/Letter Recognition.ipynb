{
 "cells": [
  {
   "cell_type": "markdown",
   "id": "incredible-supplement",
   "metadata": {},
   "source": [
    "# Letter Recognition"
   ]
  },
  {
   "cell_type": "markdown",
   "id": "excess-keeping",
   "metadata": {},
   "source": [
    "## 1. Import needed libraries"
   ]
  },
  {
   "cell_type": "code",
   "execution_count": 1,
   "id": "boxed-product",
   "metadata": {},
   "outputs": [],
   "source": [
    "import cv2\n",
    "from matplotlib import pyplot as plt\n",
    "import numpy as np\n",
    "import os"
   ]
  },
  {
   "cell_type": "markdown",
   "id": "hungry-boring",
   "metadata": {},
   "source": [
    "## 2. Directory listings of the images"
   ]
  },
  {
   "cell_type": "markdown",
   "id": "ongoing-richards",
   "metadata": {},
   "source": [
    "_NOTE_: This directory must be set from the shell. It requires some _bash scripting_ knowledge and also needs Shotor dataset to be downloaded in your computer."
   ]
  },
  {
   "cell_type": "code",
   "execution_count": 2,
   "id": "scenic-producer",
   "metadata": {},
   "outputs": [
    {
     "data": {
      "text/plain": [
       "'/Users/prp-e/Downloads/Shotor_Images'"
      ]
     },
     "execution_count": 2,
     "metadata": {},
     "output_type": "execute_result"
    }
   ],
   "source": [
    "os.getenv(\"SHOTOR_IMAGES\")"
   ]
  },
  {
   "cell_type": "code",
   "execution_count": 3,
   "id": "funny-manitoba",
   "metadata": {},
   "outputs": [],
   "source": [
    "directory_listing = os.listdir(os.getenv(\"SHOTOR_IMAGES\"))"
   ]
  },
  {
   "cell_type": "markdown",
   "id": "perfect-ecuador",
   "metadata": {},
   "source": [
    "## 3. Testing and randomizing the data"
   ]
  },
  {
   "cell_type": "code",
   "execution_count": 5,
   "id": "aging-trail",
   "metadata": {},
   "outputs": [],
   "source": [
    "import random"
   ]
  },
  {
   "cell_type": "code",
   "execution_count": 10,
   "id": "cloudy-fairy",
   "metadata": {},
   "outputs": [
    {
     "data": {
      "text/plain": [
       "'53795.tif'"
      ]
     },
     "execution_count": 10,
     "metadata": {},
     "output_type": "execute_result"
    }
   ],
   "source": [
    "directory_listing[random.randrange(len(directory_listing))]"
   ]
  },
  {
   "cell_type": "markdown",
   "id": "external-portable",
   "metadata": {},
   "source": [
    "## 3.1. Testing opencv on a random image from Shotor (To make sure tif is supported)"
   ]
  },
  {
   "cell_type": "code",
   "execution_count": 42,
   "id": "consecutive-desktop",
   "metadata": {},
   "outputs": [],
   "source": [
    "image_path = os.getenv(\"SHOTOR_IMAGES\") + \"/\" + directory_listing[random.randrange(len(directory_listing))]\n",
    "\n",
    "image = cv2.imread(image_path)"
   ]
  },
  {
   "cell_type": "code",
   "execution_count": 43,
   "id": "plastic-washer",
   "metadata": {},
   "outputs": [
    {
     "data": {
      "text/plain": [
       "<matplotlib.image.AxesImage at 0x7fe969e2b0a0>"
      ]
     },
     "execution_count": 43,
     "metadata": {},
     "output_type": "execute_result"
    },
    {
     "data": {
      "image/png": "[encoded data removed]",
      "text/plain": [
       "<Figure size 432x288 with 1 Axes>"
      ]
     },
     "metadata": {
      "needs_background": "light"
     },
     "output_type": "display_data"
    }
   ],
   "source": [
    "%matplotlib inline\n",
    "\n",
    "plt.imshow(image)"
   ]
  },
  {
   "cell_type": "markdown",
   "id": "working-parameter",
   "metadata": {},
   "source": [
    "## 3.2. Developing a function to select 200 images randomly"
   ]
  },
  {
   "cell_type": "code",
   "execution_count": 50,
   "id": "thorough-proposal",
   "metadata": {},
   "outputs": [],
   "source": [
    "def generate_dataset():\n",
    "    output_folder = \"images/\"\n",
    "    \n",
    "    counter = 0\n",
    "    images = []\n",
    "    \n",
    "    while counter < 200:\n",
    "        image_path = os.getenv(\"SHOTOR_IMAGES\") + \"/\" + directory_listing[random.randrange(len(directory_listing))]\n",
    "        image = cv2.imread(image_path)\n",
    "        cv2.imwrite(f'{output_folder}/{counter}.jpg', image)\n",
    "        counter += 1\n",
    "        \n",
    "    return True"
   ]
  },
  {
   "cell_type": "code",
   "execution_count": 51,
   "id": "smoking-pearl",
   "metadata": {},
   "outputs": [],
   "source": [
    "images = generate_dataset()"
   ]
  },
  {
   "cell_type": "code",
   "execution_count": 52,
   "id": "color-vermont",
   "metadata": {},
   "outputs": [
    {
     "data": {
      "text/plain": [
       "True"
      ]
     },
     "execution_count": 52,
     "metadata": {},
     "output_type": "execute_result"
    }
   ],
   "source": [
    "images"
   ]
  },
  {
   "cell_type": "markdown",
   "id": "genetic-lemon",
   "metadata": {},
   "source": [
    "## 4. Testing the sub-dataset we've created"
   ]
  },
  {
   "cell_type": "code",
   "execution_count": 53,
   "id": "quantitative-sheet",
   "metadata": {},
   "outputs": [],
   "source": [
    "directory_listing = os.listdir('images')"
   ]
  },
  {
   "cell_type": "code",
   "execution_count": 54,
   "id": "recognized-combine",
   "metadata": {},
   "outputs": [
    {
     "data": {
      "text/plain": [
       "201"
      ]
     },
     "execution_count": 54,
     "metadata": {},
     "output_type": "execute_result"
    }
   ],
   "source": [
    "len(directory_listing)"
   ]
  },
  {
   "cell_type": "code",
   "execution_count": 55,
   "id": "integral-collaboration",
   "metadata": {},
   "outputs": [],
   "source": [
    "image = cv2.imread(f'images/{directory_listing[random.randrange(len(directory_listing))]}')"
   ]
  },
  {
   "cell_type": "code",
   "execution_count": 57,
   "id": "documentary-partner",
   "metadata": {},
   "outputs": [
    {
     "data": {
      "text/plain": [
       "<matplotlib.image.AxesImage at 0x7fe968ccf760>"
      ]
     },
     "execution_count": 57,
     "metadata": {},
     "output_type": "execute_result"
    },
    {
     "data": {
      "image/png": "[encoded data removed]",
      "text/plain": [
       "<Figure size 432x288 with 1 Axes>"
      ]
     },
     "metadata": {
      "needs_background": "light"
     },
     "output_type": "display_data"
    }
   ],
   "source": [
    "%matplotlib inline\n",
    "\n",
    "plt.imshow(image)"
   ]
  },
  {
   "cell_type": "markdown",
   "id": "interpreted-plastic",
   "metadata": {},
   "source": [
    "# 5. Keeping the listing of Persian letters"
   ]
  },
  {
   "cell_type": "code",
   "execution_count": 58,
   "id": "russian-middle",
   "metadata": {},
   "outputs": [],
   "source": [
    "letters = \"\"\"alef\n",
    "be \n",
    "pe \n",
    "te \n",
    "the \n",
    "jim \n",
    "che \n",
    "he \n",
    "khe \n",
    "dal \n",
    "zal\n",
    "re\n",
    "ze\n",
    "zhe\n",
    "sin\n",
    "shin\n",
    "sad\n",
    "zad\n",
    "ta\n",
    "za\n",
    "ein\n",
    "qein\n",
    "fe\n",
    "quf\n",
    "kaf\n",
    "gaf\n",
    "lam\n",
    "mim \n",
    "nun \n",
    "vav\n",
    "he_docheshm\n",
    "ye\n",
    "\"\"\""
   ]
  },
  {
   "cell_type": "code",
   "execution_count": 59,
   "id": "allied-family",
   "metadata": {},
   "outputs": [],
   "source": [
    "letters = letters.split()"
   ]
  },
  {
   "cell_type": "code",
   "execution_count": 60,
   "id": "elegant-brook",
   "metadata": {},
   "outputs": [
    {
     "data": {
      "text/plain": [
       "['alef',\n",
       " 'be',\n",
       " 'pe',\n",
       " 'te',\n",
       " 'the',\n",
       " 'jim',\n",
       " 'che',\n",
       " 'he',\n",
       " 'khe',\n",
       " 'dal',\n",
       " 'zal',\n",
       " 're',\n",
       " 'ze',\n",
       " 'zhe',\n",
       " 'sin',\n",
       " 'shin',\n",
       " 'sad',\n",
       " 'zad',\n",
       " 'ta',\n",
       " 'za',\n",
       " 'ein',\n",
       " 'qein',\n",
       " 'fe',\n",
       " 'quf',\n",
       " 'kaf',\n",
       " 'gaf',\n",
       " 'lam',\n",
       " 'mim',\n",
       " 'nun',\n",
       " 'vav',\n",
       " 'he_docheshm',\n",
       " 'ye']"
      ]
     },
     "execution_count": 60,
     "metadata": {},
     "output_type": "execute_result"
    }
   ],
   "source": [
    "letters"
   ]
  },
  {
   "cell_type": "code",
   "execution_count": 66,
   "id": "split-boulder",
   "metadata": {},
   "outputs": [],
   "source": [
    "persian_alphabet = \"ابپتثجچحخدذرزژسشصضطظعغفقکگلمنوهی\"\n",
    "persian_alphabet = [char for char in persian_alphabet]"
   ]
  },
  {
   "cell_type": "code",
   "execution_count": 67,
   "id": "special-james",
   "metadata": {},
   "outputs": [
    {
     "data": {
      "text/plain": [
       "['ا',\n",
       " 'ب',\n",
       " 'پ',\n",
       " 'ت',\n",
       " 'ث',\n",
       " 'ج',\n",
       " 'چ',\n",
       " 'ح',\n",
       " 'خ',\n",
       " 'د',\n",
       " 'ذ',\n",
       " 'ر',\n",
       " 'ز',\n",
       " 'ژ',\n",
       " 'س',\n",
       " 'ش',\n",
       " 'ص',\n",
       " 'ض',\n",
       " 'ط',\n",
       " 'ظ',\n",
       " 'ع',\n",
       " 'غ',\n",
       " 'ف',\n",
       " 'ق',\n",
       " 'ک',\n",
       " 'گ',\n",
       " 'ل',\n",
       " 'م',\n",
       " 'ن',\n",
       " 'و',\n",
       " 'ه',\n",
       " 'ی']"
      ]
     },
     "execution_count": 67,
     "metadata": {},
     "output_type": "execute_result"
    }
   ],
   "source": [
    "persian_alphabet"
   ]
  }
 ],
 "metadata": {
  "kernelspec": {
   "display_name": "Python 3",
   "language": "python",
   "name": "python3"
  },
  "language_info": {
   "codemirror_mode": {
    "name": "ipython",
    "version": 3
   },
   "file_extension": ".py",
   "mimetype": "text/x-python",
   "name": "python",
   "nbconvert_exporter": "python",
   "pygments_lexer": "ipython3",
   "version": "3.8.6"
  }
 },
 "nbformat": 4,
 "nbformat_minor": 5
}
