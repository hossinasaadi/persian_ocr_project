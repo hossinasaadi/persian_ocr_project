{
 "cells": [
  {
   "cell_type": "markdown",
   "id": "under-paradise",
   "metadata": {},
   "source": [
    "# Letter Recognition"
   ]
  },
  {
   "cell_type": "markdown",
   "id": "retained-tennessee",
   "metadata": {},
   "source": [
    "## 1. Import needed libraries"
   ]
  },
  {
   "cell_type": "code",
   "execution_count": 1,
   "id": "juvenile-toolbox",
   "metadata": {},
   "outputs": [],
   "source": [
    "import cv2\n",
    "from matplotlib import pyplot as plt\n",
    "import numpy as np\n",
    "import os"
   ]
  },
  {
   "cell_type": "markdown",
   "id": "olympic-costs",
   "metadata": {},
   "source": [
    "## 2. Directory listings of the images"
   ]
  },
  {
   "cell_type": "markdown",
   "id": "forbidden-announcement",
   "metadata": {},
   "source": [
    "_NOTE_: This directory must be set from the shell. It requires some _bash scripting_ knowledge and also needs Shotor dataset to be downloaded in your computer."
   ]
  },
  {
   "cell_type": "code",
   "execution_count": 2,
   "id": "solid-reset",
   "metadata": {},
   "outputs": [
    {
     "data": {
      "text/plain": [
       "'/Users/prp-e/Downloads/Shotor_Images'"
      ]
     },
     "execution_count": 2,
     "metadata": {},
     "output_type": "execute_result"
    }
   ],
   "source": [
    "os.getenv(\"SHOTOR_IMAGES\")"
   ]
  },
  {
   "cell_type": "code",
   "execution_count": 3,
   "id": "beneficial-edward",
   "metadata": {},
   "outputs": [],
   "source": [
    "directory_listing = os.listdir(os.getenv(\"SHOTOR_IMAGES\"))"
   ]
  },
  {
   "cell_type": "markdown",
   "id": "greatest-architecture",
   "metadata": {},
   "source": [
    "## 3. Testing and randomizing the data"
   ]
  },
  {
   "cell_type": "code",
   "execution_count": 5,
   "id": "distinguished-arena",
   "metadata": {},
   "outputs": [],
   "source": [
    "import random"
   ]
  },
  {
   "cell_type": "code",
   "execution_count": 10,
   "id": "intelligent-validity",
   "metadata": {},
   "outputs": [
    {
     "data": {
      "text/plain": [
       "'53795.tif'"
      ]
     },
     "execution_count": 10,
     "metadata": {},
     "output_type": "execute_result"
    }
   ],
   "source": [
    "directory_listing[random.randrange(len(directory_listing))]"
   ]
  },
  {
   "cell_type": "markdown",
   "id": "recovered-validity",
   "metadata": {},
   "source": [
    "## 3.1. Testing opencv on a random image from Shotor (To make sure tif is supported)"
   ]
  },
  {
   "cell_type": "code",
   "execution_count": 11,
   "id": "annual-collectible",
   "metadata": {},
   "outputs": [],
   "source": [
    "image_path = os.getenv(\"SHOTOR_IMAGES\") + \"/\" + \"53795.tif\"\n",
    "\n",
    "image = cv2.imread(image_path)"
   ]
  },
  {
   "cell_type": "code",
   "execution_count": 12,
   "id": "declared-officer",
   "metadata": {},
   "outputs": [
    {
     "data": {
      "text/plain": [
       "<matplotlib.image.AxesImage at 0x7fe9693e95e0>"
      ]
     },
     "execution_count": 12,
     "metadata": {},
     "output_type": "execute_result"
    },
    {
     "data": {
      "image/png": "[encoded data removed]",
      "text/plain": [
       "<Figure size 432x288 with 1 Axes>"
      ]
     },
     "metadata": {
      "needs_background": "light"
     },
     "output_type": "display_data"
    }
   ],
   "source": [
    "%matplotlib inline\n",
    "\n",
    "plt.imshow(image)"
   ]
  },
  {
   "cell_type": "markdown",
   "id": "packed-funeral",
   "metadata": {},
   "source": [
    "## 3.2. Developing a function to select 200 images randomly"
   ]
  },
  {
   "cell_type": "code",
   "execution_count": null,
   "id": "timely-yorkshire",
   "metadata": {},
   "outputs": [],
   "source": []
  }
 ],
 "metadata": {
  "kernelspec": {
   "display_name": "Python 3",
   "language": "python",
   "name": "python3"
  },
  "language_info": {
   "codemirror_mode": {
    "name": "ipython",
    "version": 3
   },
   "file_extension": ".py",
   "mimetype": "text/x-python",
   "name": "python",
   "nbconvert_exporter": "python",
   "pygments_lexer": "ipython3",
   "version": "3.8.6"
  }
 },
 "nbformat": 4,
 "nbformat_minor": 5
}
